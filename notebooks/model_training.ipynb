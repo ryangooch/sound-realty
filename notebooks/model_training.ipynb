{
 "cells": [
  {
   "cell_type": "markdown",
   "id": "0e4ceed7-da38-48ce-bb6a-5b78123a5fb4",
   "metadata": {},
   "source": [
    "# Model Training\n",
    "\n",
    "Let's take a look at our expected dataset and see if we can improve model performance"
   ]
  },
  {
   "cell_type": "code",
   "execution_count": 1,
   "id": "6f842173-1c7f-4c3a-8cda-95a82a116ade",
   "metadata": {},
   "outputs": [],
   "source": [
    "import json\n",
    "import pickle\n",
    "from pathlib import Path\n",
    "\n",
    "import giskard\n",
    "import lightgbm as lgb\n",
    "import matplotlib.pyplot as plt\n",
    "import numpy as np\n",
    "import pandas as pd\n",
    "import pendulum as pdt\n",
    "import xgboost as xgb\n",
    "from sklearn.feature_selection import VarianceThreshold, SelectFromModel\n",
    "from sklearn.metrics import mean_absolute_percentage_error\n",
    "from sklearn.model_selection import train_test_split\n",
    "from sklearn.pipeline import Pipeline\n",
    "\n",
    "plt.style.use(\"ggplot\")"
   ]
  },
  {
   "cell_type": "code",
   "execution_count": 2,
   "id": "bd7238f6-ed5a-43dc-b4ef-0bff1cad1071",
   "metadata": {},
   "outputs": [],
   "source": [
    "DATA_DIR = Path(\"../data/\")\n",
    "TEST_DATA = DATA_DIR / \"future_unseen_examples.csv\"\n",
    "TRAIN_DATA = DATA_DIR / \"kc_house_data.csv\"\n",
    "DEMOGRAPHICS_DATA = DATA_DIR / \"zipcode_demographics.csv\"\n",
    "INITIAL_MODEL_COLUMNS = [\n",
    "    'price', 'bedrooms', 'bathrooms', 'sqft_living', 'sqft_lot', 'floors',\n",
    "    'sqft_above', 'sqft_basement', 'zipcode'\n",
    "]\n",
    "MODEL_PATH = Path(\"../model/model.pkl\")\n",
    "MODEL_FEATURES_PATH = Path(\"../model/model_features.json\")\n",
    "DAYS_PER_MONTH = 31  # an approximation to be sure\n",
    "MONTH_PER_MONTH = 12  # a more accurate approximation"
   ]
  },
  {
   "cell_type": "markdown",
   "id": "037cfb9a-c1df-4e76-9f5f-0c56cc8d85af",
   "metadata": {},
   "source": [
    "## Explore the Data"
   ]
  },
  {
   "cell_type": "code",
   "execution_count": 3,
   "id": "f110c0ec-951e-40ff-9a37-9bd2812416f9",
   "metadata": {},
   "outputs": [],
   "source": [
    "test_df = pd.read_csv(TEST_DATA)\n",
    "train_df = pd.read_csv(TRAIN_DATA)\n",
    "demographics_df = pd.read_csv(DEMOGRAPHICS_DATA)\n",
    "\n",
    "train_df = train_df.merge(\n",
    "    demographics_df, \n",
    "    how=\"left\",\n",
    "    on=\"zipcode\"\n",
    ")"
   ]
  },
  {
   "cell_type": "code",
   "execution_count": 4,
   "id": "83a32b25-9fa9-4dad-ae0c-cbe05210bd50",
   "metadata": {},
   "outputs": [],
   "source": [
    "# convert date to a datetime object\n",
    "train_df['date'] = pd.to_datetime(train_df['date'], format='%Y%m%dT%H%M%S')\n",
    "\n",
    "# break date out into year, month, and day columns\n",
    "train_df['year'] = train_df['date'].dt.year\n",
    "train_df['month_sin'] = np.sin(2*np.pi*((train_df['date'].dt.month - 1) / 12))\n",
    "train_df['month_cos'] = np.cos(2*np.pi*((train_df['date'].dt.month - 1) / 12))\n",
    "train_df['day_sin'] = np.sin(2*np.pi*((train_df['date'].dt.day - 1) / 31))\n",
    "train_df['day_cos'] = np.cos(2*np.pi*((train_df['date'].dt.day - 1) / 31))"
   ]
  },
  {
   "cell_type": "code",
   "execution_count": 5,
   "id": "b3fb4848-811f-4d5c-8ae9-439ff1b1c1b3",
   "metadata": {},
   "outputs": [],
   "source": [
    "dropcols = [\"id\", \"date\", \"zipcode\"]\n",
    "train_price = train_df.pop(\"price\")\n",
    "train_df = train_df.drop(dropcols, axis=1)"
   ]
  },
  {
   "cell_type": "markdown",
   "id": "0f9b8a78-93cb-4539-b0d7-2e0b0223a31f",
   "metadata": {},
   "source": [
    "## split both datasets (given and new features)"
   ]
  },
  {
   "cell_type": "code",
   "execution_count": 68,
   "id": "f3f3cd32-6221-4ae0-a547-e0307b1be25e",
   "metadata": {},
   "outputs": [],
   "source": [
    "idx = int(len(train_df) * 0.80)\n",
    "indices = list(range(len(train_df)))\n",
    "np.random.shuffle(indices)\n",
    "\n",
    "X_train = train_df.iloc[indices[:idx], :]\n",
    "X_test = train_df.iloc[indices[idx:], :]\n",
    "\n",
    "y_train = train_price[indices[:idx]]\n",
    "y_test = train_price[indices[idx:]]\n",
    "\n",
    "X_train_merged_data = merged_data.iloc[indices[:idx], :]\n",
    "X_test_merged_data = merged_data.iloc[indices[idx:], :]\n",
    "\n",
    "y_train_merged_data = y[indices[:idx]]\n",
    "y_test_merged_data = y[indices[idx:]]\n"
   ]
  },
  {
   "cell_type": "markdown",
   "id": "27070071-ed1c-436a-bab2-4d63cbf71071",
   "metadata": {},
   "source": [
    "## Check Initial Model"
   ]
  },
  {
   "cell_type": "code",
   "execution_count": 7,
   "id": "aec4b7fb-2f51-4e87-8ef1-40825b8ee2a1",
   "metadata": {},
   "outputs": [],
   "source": [
    "with open(MODEL_PATH, \"rb\") as fil:\n",
    "    model = pickle.load(fil)"
   ]
  },
  {
   "cell_type": "code",
   "execution_count": 8,
   "id": "57bc7a0c-1268-450c-93f8-5470a3006d70",
   "metadata": {},
   "outputs": [],
   "source": [
    "merged_data = pd.read_csv(TRAIN_DATA)[INITIAL_MODEL_COLUMNS].merge(\n",
    "    demographics_df, \n",
    "    how=\"left\",\n",
    "    on=\"zipcode\"\n",
    ").drop(columns=\"zipcode\")\n",
    "\n",
    "y = merged_data.pop(\"price\")\n",
    "x = merged_data"
   ]
  },
  {
   "cell_type": "code",
   "execution_count": 46,
   "id": "e6278334-b6f8-4331-b748-c717e6006adf",
   "metadata": {},
   "outputs": [],
   "source": [
    "y_preds_knn = model.predict(merged_data)"
   ]
  },
  {
   "cell_type": "code",
   "execution_count": 48,
   "id": "913abe62-a4a1-41f8-9e73-14beff29471e",
   "metadata": {},
   "outputs": [
    {
     "name": "stdout",
     "output_type": "stream",
     "text": [
      "KNN{2} MAPE: 15.0346%\n"
     ]
    }
   ],
   "source": [
    "print(f\"KNN{{2}} MAPE: {mean_absolute_percentage_error(y, y_preds_knn)*100:.4f}%\")"
   ]
  },
  {
   "cell_type": "code",
   "execution_count": 73,
   "id": "c8879b64-b6cc-4e88-96bb-ef21b638300d",
   "metadata": {},
   "outputs": [],
   "source": [
    "y_preds_knn = model.predict(X_test_merged_data)"
   ]
  },
  {
   "cell_type": "markdown",
   "id": "ca6d969b-6dc5-4b16-8903-aca84148e07e",
   "metadata": {},
   "source": [
    "## LightGBM Model"
   ]
  },
  {
   "cell_type": "code",
   "execution_count": 69,
   "id": "dc315f15-6689-476b-bfdd-8b6663d8abd8",
   "metadata": {},
   "outputs": [
    {
     "name": "stdout",
     "output_type": "stream",
     "text": [
      "[LightGBM] [Info] Auto-choosing col-wise multi-threading, the overhead of testing was 0.002124 seconds.\n",
      "You can set `force_col_wise=true` to remove the overhead.\n",
      "[LightGBM] [Info] Total Bins 3354\n",
      "[LightGBM] [Info] Number of data points in the train set: 17290, number of used features: 48\n",
      "[LightGBM] [Info] Start training from score 13.050242\n",
      "Training until validation scores don't improve for 30 rounds\n",
      "Early stopping, best iteration is:\n",
      "[287]\tvalid_0's l2: 0.0267301\n"
     ]
    },
    {
     "data": {
      "text/html": [
       "<style>#sk-container-id-11 {color: black;}#sk-container-id-11 pre{padding: 0;}#sk-container-id-11 div.sk-toggleable {background-color: white;}#sk-container-id-11 label.sk-toggleable__label {cursor: pointer;display: block;width: 100%;margin-bottom: 0;padding: 0.3em;box-sizing: border-box;text-align: center;}#sk-container-id-11 label.sk-toggleable__label-arrow:before {content: \"▸\";float: left;margin-right: 0.25em;color: #696969;}#sk-container-id-11 label.sk-toggleable__label-arrow:hover:before {color: black;}#sk-container-id-11 div.sk-estimator:hover label.sk-toggleable__label-arrow:before {color: black;}#sk-container-id-11 div.sk-toggleable__content {max-height: 0;max-width: 0;overflow: hidden;text-align: left;background-color: #f0f8ff;}#sk-container-id-11 div.sk-toggleable__content pre {margin: 0.2em;color: black;border-radius: 0.25em;background-color: #f0f8ff;}#sk-container-id-11 input.sk-toggleable__control:checked~div.sk-toggleable__content {max-height: 200px;max-width: 100%;overflow: auto;}#sk-container-id-11 input.sk-toggleable__control:checked~label.sk-toggleable__label-arrow:before {content: \"▾\";}#sk-container-id-11 div.sk-estimator input.sk-toggleable__control:checked~label.sk-toggleable__label {background-color: #d4ebff;}#sk-container-id-11 div.sk-label input.sk-toggleable__control:checked~label.sk-toggleable__label {background-color: #d4ebff;}#sk-container-id-11 input.sk-hidden--visually {border: 0;clip: rect(1px 1px 1px 1px);clip: rect(1px, 1px, 1px, 1px);height: 1px;margin: -1px;overflow: hidden;padding: 0;position: absolute;width: 1px;}#sk-container-id-11 div.sk-estimator {font-family: monospace;background-color: #f0f8ff;border: 1px dotted black;border-radius: 0.25em;box-sizing: border-box;margin-bottom: 0.5em;}#sk-container-id-11 div.sk-estimator:hover {background-color: #d4ebff;}#sk-container-id-11 div.sk-parallel-item::after {content: \"\";width: 100%;border-bottom: 1px solid gray;flex-grow: 1;}#sk-container-id-11 div.sk-label:hover label.sk-toggleable__label {background-color: #d4ebff;}#sk-container-id-11 div.sk-serial::before {content: \"\";position: absolute;border-left: 1px solid gray;box-sizing: border-box;top: 0;bottom: 0;left: 50%;z-index: 0;}#sk-container-id-11 div.sk-serial {display: flex;flex-direction: column;align-items: center;background-color: white;padding-right: 0.2em;padding-left: 0.2em;position: relative;}#sk-container-id-11 div.sk-item {position: relative;z-index: 1;}#sk-container-id-11 div.sk-parallel {display: flex;align-items: stretch;justify-content: center;background-color: white;position: relative;}#sk-container-id-11 div.sk-item::before, #sk-container-id-11 div.sk-parallel-item::before {content: \"\";position: absolute;border-left: 1px solid gray;box-sizing: border-box;top: 0;bottom: 0;left: 50%;z-index: -1;}#sk-container-id-11 div.sk-parallel-item {display: flex;flex-direction: column;z-index: 1;position: relative;background-color: white;}#sk-container-id-11 div.sk-parallel-item:first-child::after {align-self: flex-end;width: 50%;}#sk-container-id-11 div.sk-parallel-item:last-child::after {align-self: flex-start;width: 50%;}#sk-container-id-11 div.sk-parallel-item:only-child::after {width: 0;}#sk-container-id-11 div.sk-dashed-wrapped {border: 1px dashed gray;margin: 0 0.4em 0.5em 0.4em;box-sizing: border-box;padding-bottom: 0.4em;background-color: white;}#sk-container-id-11 div.sk-label label {font-family: monospace;font-weight: bold;display: inline-block;line-height: 1.2em;}#sk-container-id-11 div.sk-label-container {text-align: center;}#sk-container-id-11 div.sk-container {/* jupyter's `normalize.less` sets `[hidden] { display: none; }` but bootstrap.min.css set `[hidden] { display: none !important; }` so we also need the `!important` here to be able to override the default hidden behavior on the sphinx rendered scikit-learn.org. See: https://github.com/scikit-learn/scikit-learn/issues/21755 */display: inline-block !important;position: relative;}#sk-container-id-11 div.sk-text-repr-fallback {display: none;}</style><div id=\"sk-container-id-11\" class=\"sk-top-container\"><div class=\"sk-text-repr-fallback\"><pre>LGBMRegressor(n_estimators=1000, n_jobs=8, objective=&#x27;regression&#x27;)</pre><b>In a Jupyter environment, please rerun this cell to show the HTML representation or trust the notebook. <br />On GitHub, the HTML representation is unable to render, please try loading this page with nbviewer.org.</b></div><div class=\"sk-container\" hidden><div class=\"sk-item\"><div class=\"sk-estimator sk-toggleable\"><input class=\"sk-toggleable__control sk-hidden--visually\" id=\"sk-estimator-id-11\" type=\"checkbox\" checked><label for=\"sk-estimator-id-11\" class=\"sk-toggleable__label sk-toggleable__label-arrow\">LGBMRegressor</label><div class=\"sk-toggleable__content\"><pre>LGBMRegressor(n_estimators=1000, n_jobs=8, objective=&#x27;regression&#x27;)</pre></div></div></div></div></div>"
      ],
      "text/plain": [
       "LGBMRegressor(n_estimators=1000, n_jobs=8, objective='regression')"
      ]
     },
     "execution_count": 69,
     "metadata": {},
     "output_type": "execute_result"
    }
   ],
   "source": [
    "early_stopping = lgb.callback.early_stopping(stopping_rounds=30)\n",
    "lgbm_model = lgb.LGBMRegressor(n_jobs=8, n_estimators=1_000, objective=\"regression\")\n",
    "\n",
    "lgbm_model.fit(\n",
    "    X_train,\n",
    "    np.log(y_train),  # skewed dataset but normally distributed after log transform\n",
    "    eval_set=[(X_test, np.log(y_test))],\n",
    "    callbacks=[early_stopping]\n",
    ")"
   ]
  },
  {
   "cell_type": "code",
   "execution_count": 70,
   "id": "0a1289a6-309c-4374-b929-314069092db8",
   "metadata": {},
   "outputs": [
    {
     "data": {
      "text/plain": [
       "0.11780179213722279"
      ]
     },
     "execution_count": 70,
     "metadata": {},
     "output_type": "execute_result"
    }
   ],
   "source": [
    "y_preds = np.exp(lgbm_model.predict(X_test))  # undo the log-transform above\n",
    "\n",
    "# MAPE is nice for judging different scales of errors\n",
    "mean_absolute_percentage_error(y_test, y_preds)"
   ]
  },
  {
   "cell_type": "markdown",
   "id": "fdd6e4ad-bbbb-4ab3-81f0-17f236edc31c",
   "metadata": {},
   "source": [
    "## XGBoost"
   ]
  },
  {
   "cell_type": "code",
   "execution_count": 71,
   "id": "c77563ff-9e52-47c4-a8a4-3f972673b3e4",
   "metadata": {
    "collapsed": true,
    "jupyter": {
     "outputs_hidden": true
    },
    "scrolled": true
   },
   "outputs": [
    {
     "name": "stdout",
     "output_type": "stream",
     "text": [
      "[0]\tvalidation_0-rmsle:2.04756\n",
      "[1]\tvalidation_0-rmsle:1.86397\n",
      "[2]\tvalidation_0-rmsle:1.68566\n",
      "[3]\tvalidation_0-rmsle:1.51319\n",
      "[4]\tvalidation_0-rmsle:1.34722\n",
      "[5]\tvalidation_0-rmsle:1.18845\n",
      "[6]\tvalidation_0-rmsle:1.03765\n",
      "[7]\tvalidation_0-rmsle:0.89567\n",
      "[8]\tvalidation_0-rmsle:0.76337\n",
      "[9]\tvalidation_0-rmsle:0.64161\n",
      "[10]\tvalidation_0-rmsle:0.53119\n",
      "[11]\tvalidation_0-rmsle:0.43278\n",
      "[12]\tvalidation_0-rmsle:0.34682\n",
      "[13]\tvalidation_0-rmsle:0.27343\n",
      "[14]\tvalidation_0-rmsle:0.21237\n",
      "[15]\tvalidation_0-rmsle:0.16276\n",
      "[16]\tvalidation_0-rmsle:0.12355\n",
      "[17]\tvalidation_0-rmsle:0.09334\n",
      "[18]\tvalidation_0-rmsle:0.07043\n",
      "[19]\tvalidation_0-rmsle:0.05350\n",
      "[20]\tvalidation_0-rmsle:0.04125\n",
      "[21]\tvalidation_0-rmsle:0.03265\n",
      "[22]\tvalidation_0-rmsle:0.02666\n",
      "[23]\tvalidation_0-rmsle:0.02251\n"
     ]
    },
    {
     "name": "stderr",
     "output_type": "stream",
     "text": [
      "/home/maesh/anaconda3/envs/ml-flask/lib/python3.11/site-packages/xgboost/data.py:312: FutureWarning: is_sparse is deprecated and will be removed in a future version. Check `isinstance(dtype, pd.SparseDtype)` instead.\n",
      "  if is_sparse(dtype):\n",
      "/home/maesh/anaconda3/envs/ml-flask/lib/python3.11/site-packages/xgboost/data.py:314: FutureWarning: is_categorical_dtype is deprecated and will be removed in a future version. Use isinstance(dtype, CategoricalDtype) instead\n",
      "  elif is_categorical_dtype(dtype) and enable_categorical:\n",
      "/home/maesh/anaconda3/envs/ml-flask/lib/python3.11/site-packages/xgboost/data.py:345: FutureWarning: is_categorical_dtype is deprecated and will be removed in a future version. Use isinstance(dtype, CategoricalDtype) instead\n",
      "  if is_categorical_dtype(dtype)\n",
      "/home/maesh/anaconda3/envs/ml-flask/lib/python3.11/site-packages/xgboost/data.py:336: FutureWarning: is_categorical_dtype is deprecated and will be removed in a future version. Use isinstance(dtype, CategoricalDtype) instead\n",
      "  return is_int or is_bool or is_float or is_categorical_dtype(dtype)\n",
      "/home/maesh/anaconda3/envs/ml-flask/lib/python3.11/site-packages/xgboost/data.py:440: FutureWarning: is_sparse is deprecated and will be removed in a future version. Check `isinstance(dtype, pd.SparseDtype)` instead.\n",
      "  if is_sparse(data):\n",
      "/home/maesh/anaconda3/envs/ml-flask/lib/python3.11/site-packages/xgboost/data.py:312: FutureWarning: is_sparse is deprecated and will be removed in a future version. Check `isinstance(dtype, pd.SparseDtype)` instead.\n",
      "  if is_sparse(dtype):\n",
      "/home/maesh/anaconda3/envs/ml-flask/lib/python3.11/site-packages/xgboost/data.py:314: FutureWarning: is_categorical_dtype is deprecated and will be removed in a future version. Use isinstance(dtype, CategoricalDtype) instead\n",
      "  elif is_categorical_dtype(dtype) and enable_categorical:\n",
      "/home/maesh/anaconda3/envs/ml-flask/lib/python3.11/site-packages/xgboost/data.py:345: FutureWarning: is_categorical_dtype is deprecated and will be removed in a future version. Use isinstance(dtype, CategoricalDtype) instead\n",
      "  if is_categorical_dtype(dtype)\n",
      "/home/maesh/anaconda3/envs/ml-flask/lib/python3.11/site-packages/xgboost/data.py:336: FutureWarning: is_categorical_dtype is deprecated and will be removed in a future version. Use isinstance(dtype, CategoricalDtype) instead\n",
      "  return is_int or is_bool or is_float or is_categorical_dtype(dtype)\n",
      "/home/maesh/anaconda3/envs/ml-flask/lib/python3.11/site-packages/xgboost/data.py:440: FutureWarning: is_sparse is deprecated and will be removed in a future version. Check `isinstance(dtype, pd.SparseDtype)` instead.\n",
      "  if is_sparse(data):\n"
     ]
    },
    {
     "name": "stdout",
     "output_type": "stream",
     "text": [
      "[24]\tvalidation_0-rmsle:0.01978\n",
      "[25]\tvalidation_0-rmsle:0.01792\n",
      "[26]\tvalidation_0-rmsle:0.01662\n",
      "[27]\tvalidation_0-rmsle:0.01580\n",
      "[28]\tvalidation_0-rmsle:0.01519\n",
      "[29]\tvalidation_0-rmsle:0.01471\n",
      "[30]\tvalidation_0-rmsle:0.01437\n",
      "[31]\tvalidation_0-rmsle:0.01411\n",
      "[32]\tvalidation_0-rmsle:0.01388\n",
      "[33]\tvalidation_0-rmsle:0.01372\n",
      "[34]\tvalidation_0-rmsle:0.01357\n",
      "[35]\tvalidation_0-rmsle:0.01344\n",
      "[36]\tvalidation_0-rmsle:0.01336\n",
      "[37]\tvalidation_0-rmsle:0.01327\n",
      "[38]\tvalidation_0-rmsle:0.01320\n",
      "[39]\tvalidation_0-rmsle:0.01314\n",
      "[40]\tvalidation_0-rmsle:0.01308\n",
      "[41]\tvalidation_0-rmsle:0.01302\n",
      "[42]\tvalidation_0-rmsle:0.01296\n",
      "[43]\tvalidation_0-rmsle:0.01290\n",
      "[44]\tvalidation_0-rmsle:0.01287\n",
      "[45]\tvalidation_0-rmsle:0.01284\n",
      "[46]\tvalidation_0-rmsle:0.01279\n",
      "[47]\tvalidation_0-rmsle:0.01277\n",
      "[48]\tvalidation_0-rmsle:0.01273\n",
      "[49]\tvalidation_0-rmsle:0.01271\n",
      "[50]\tvalidation_0-rmsle:0.01265\n",
      "[51]\tvalidation_0-rmsle:0.01261\n",
      "[52]\tvalidation_0-rmsle:0.01259\n",
      "[53]\tvalidation_0-rmsle:0.01256\n",
      "[54]\tvalidation_0-rmsle:0.01252\n",
      "[55]\tvalidation_0-rmsle:0.01250\n",
      "[56]\tvalidation_0-rmsle:0.01247\n",
      "[57]\tvalidation_0-rmsle:0.01244\n",
      "[58]\tvalidation_0-rmsle:0.01243\n",
      "[59]\tvalidation_0-rmsle:0.01242\n",
      "[60]\tvalidation_0-rmsle:0.01241\n",
      "[61]\tvalidation_0-rmsle:0.01238\n",
      "[62]\tvalidation_0-rmsle:0.01237\n",
      "[63]\tvalidation_0-rmsle:0.01237\n",
      "[64]\tvalidation_0-rmsle:0.01235\n",
      "[65]\tvalidation_0-rmsle:0.01234\n",
      "[66]\tvalidation_0-rmsle:0.01233\n",
      "[67]\tvalidation_0-rmsle:0.01229\n",
      "[68]\tvalidation_0-rmsle:0.01227\n",
      "[69]\tvalidation_0-rmsle:0.01226\n",
      "[70]\tvalidation_0-rmsle:0.01225\n",
      "[71]\tvalidation_0-rmsle:0.01224\n",
      "[72]\tvalidation_0-rmsle:0.01223\n",
      "[73]\tvalidation_0-rmsle:0.01223\n",
      "[74]\tvalidation_0-rmsle:0.01221\n",
      "[75]\tvalidation_0-rmsle:0.01220\n",
      "[76]\tvalidation_0-rmsle:0.01220\n",
      "[77]\tvalidation_0-rmsle:0.01220\n",
      "[78]\tvalidation_0-rmsle:0.01219\n",
      "[79]\tvalidation_0-rmsle:0.01218\n",
      "[80]\tvalidation_0-rmsle:0.01218\n",
      "[81]\tvalidation_0-rmsle:0.01216\n",
      "[82]\tvalidation_0-rmsle:0.01216\n",
      "[83]\tvalidation_0-rmsle:0.01215\n",
      "[84]\tvalidation_0-rmsle:0.01214\n",
      "[85]\tvalidation_0-rmsle:0.01213\n",
      "[86]\tvalidation_0-rmsle:0.01212\n",
      "[87]\tvalidation_0-rmsle:0.01211\n",
      "[88]\tvalidation_0-rmsle:0.01211\n",
      "[89]\tvalidation_0-rmsle:0.01211\n",
      "[90]\tvalidation_0-rmsle:0.01211\n",
      "[91]\tvalidation_0-rmsle:0.01209\n",
      "[92]\tvalidation_0-rmsle:0.01209\n",
      "[93]\tvalidation_0-rmsle:0.01209\n",
      "[94]\tvalidation_0-rmsle:0.01208\n",
      "[95]\tvalidation_0-rmsle:0.01207\n",
      "[96]\tvalidation_0-rmsle:0.01207\n",
      "[97]\tvalidation_0-rmsle:0.01207\n",
      "[98]\tvalidation_0-rmsle:0.01205\n",
      "[99]\tvalidation_0-rmsle:0.01205\n",
      "[100]\tvalidation_0-rmsle:0.01204\n",
      "[101]\tvalidation_0-rmsle:0.01204\n",
      "[102]\tvalidation_0-rmsle:0.01203\n",
      "[103]\tvalidation_0-rmsle:0.01202\n",
      "[104]\tvalidation_0-rmsle:0.01202\n",
      "[105]\tvalidation_0-rmsle:0.01201\n",
      "[106]\tvalidation_0-rmsle:0.01200\n",
      "[107]\tvalidation_0-rmsle:0.01199\n",
      "[108]\tvalidation_0-rmsle:0.01199\n",
      "[109]\tvalidation_0-rmsle:0.01199\n",
      "[110]\tvalidation_0-rmsle:0.01199\n",
      "[111]\tvalidation_0-rmsle:0.01199\n",
      "[112]\tvalidation_0-rmsle:0.01198\n",
      "[113]\tvalidation_0-rmsle:0.01198\n",
      "[114]\tvalidation_0-rmsle:0.01197\n",
      "[115]\tvalidation_0-rmsle:0.01197\n",
      "[116]\tvalidation_0-rmsle:0.01197\n",
      "[117]\tvalidation_0-rmsle:0.01197\n",
      "[118]\tvalidation_0-rmsle:0.01197\n",
      "[119]\tvalidation_0-rmsle:0.01196\n",
      "[120]\tvalidation_0-rmsle:0.01196\n",
      "[121]\tvalidation_0-rmsle:0.01195\n",
      "[122]\tvalidation_0-rmsle:0.01195\n",
      "[123]\tvalidation_0-rmsle:0.01195\n",
      "[124]\tvalidation_0-rmsle:0.01195\n",
      "[125]\tvalidation_0-rmsle:0.01195\n",
      "[126]\tvalidation_0-rmsle:0.01195\n",
      "[127]\tvalidation_0-rmsle:0.01195\n",
      "[128]\tvalidation_0-rmsle:0.01194\n",
      "[129]\tvalidation_0-rmsle:0.01194\n",
      "[130]\tvalidation_0-rmsle:0.01194\n",
      "[131]\tvalidation_0-rmsle:0.01194\n",
      "[132]\tvalidation_0-rmsle:0.01193\n",
      "[133]\tvalidation_0-rmsle:0.01193\n",
      "[134]\tvalidation_0-rmsle:0.01193\n",
      "[135]\tvalidation_0-rmsle:0.01193\n",
      "[136]\tvalidation_0-rmsle:0.01194\n",
      "[137]\tvalidation_0-rmsle:0.01194\n",
      "[138]\tvalidation_0-rmsle:0.01194\n",
      "[139]\tvalidation_0-rmsle:0.01193\n",
      "[140]\tvalidation_0-rmsle:0.01193\n",
      "[141]\tvalidation_0-rmsle:0.01193\n",
      "[142]\tvalidation_0-rmsle:0.01193\n",
      "[143]\tvalidation_0-rmsle:0.01193\n",
      "[144]\tvalidation_0-rmsle:0.01192\n",
      "[145]\tvalidation_0-rmsle:0.01192\n",
      "[146]\tvalidation_0-rmsle:0.01192\n",
      "[147]\tvalidation_0-rmsle:0.01192\n",
      "[148]\tvalidation_0-rmsle:0.01192\n",
      "[149]\tvalidation_0-rmsle:0.01192\n",
      "[150]\tvalidation_0-rmsle:0.01192\n",
      "[151]\tvalidation_0-rmsle:0.01192\n",
      "[152]\tvalidation_0-rmsle:0.01191\n",
      "[153]\tvalidation_0-rmsle:0.01192\n",
      "[154]\tvalidation_0-rmsle:0.01192\n",
      "[155]\tvalidation_0-rmsle:0.01192\n",
      "[156]\tvalidation_0-rmsle:0.01191\n",
      "[157]\tvalidation_0-rmsle:0.01191\n",
      "[158]\tvalidation_0-rmsle:0.01191\n",
      "[159]\tvalidation_0-rmsle:0.01191\n",
      "[160]\tvalidation_0-rmsle:0.01191\n",
      "[161]\tvalidation_0-rmsle:0.01191\n",
      "[162]\tvalidation_0-rmsle:0.01191\n",
      "[163]\tvalidation_0-rmsle:0.01191\n",
      "[164]\tvalidation_0-rmsle:0.01191\n",
      "[165]\tvalidation_0-rmsle:0.01191\n",
      "[166]\tvalidation_0-rmsle:0.01191\n",
      "[167]\tvalidation_0-rmsle:0.01190\n",
      "[168]\tvalidation_0-rmsle:0.01189\n",
      "[169]\tvalidation_0-rmsle:0.01189\n",
      "[170]\tvalidation_0-rmsle:0.01189\n",
      "[171]\tvalidation_0-rmsle:0.01189\n",
      "[172]\tvalidation_0-rmsle:0.01188\n",
      "[173]\tvalidation_0-rmsle:0.01187\n",
      "[174]\tvalidation_0-rmsle:0.01187\n",
      "[175]\tvalidation_0-rmsle:0.01187\n",
      "[176]\tvalidation_0-rmsle:0.01187\n",
      "[177]\tvalidation_0-rmsle:0.01187\n",
      "[178]\tvalidation_0-rmsle:0.01187\n",
      "[179]\tvalidation_0-rmsle:0.01186\n",
      "[180]\tvalidation_0-rmsle:0.01186\n",
      "[181]\tvalidation_0-rmsle:0.01186\n",
      "[182]\tvalidation_0-rmsle:0.01186\n",
      "[183]\tvalidation_0-rmsle:0.01186\n",
      "[184]\tvalidation_0-rmsle:0.01186\n",
      "[185]\tvalidation_0-rmsle:0.01185\n",
      "[186]\tvalidation_0-rmsle:0.01185\n",
      "[187]\tvalidation_0-rmsle:0.01186\n",
      "[188]\tvalidation_0-rmsle:0.01186\n",
      "[189]\tvalidation_0-rmsle:0.01186\n",
      "[190]\tvalidation_0-rmsle:0.01186\n",
      "[191]\tvalidation_0-rmsle:0.01186\n",
      "[192]\tvalidation_0-rmsle:0.01185\n",
      "[193]\tvalidation_0-rmsle:0.01185\n",
      "[194]\tvalidation_0-rmsle:0.01185\n",
      "[195]\tvalidation_0-rmsle:0.01185\n",
      "[196]\tvalidation_0-rmsle:0.01185\n",
      "[197]\tvalidation_0-rmsle:0.01185\n",
      "[198]\tvalidation_0-rmsle:0.01185\n",
      "[199]\tvalidation_0-rmsle:0.01185\n",
      "[200]\tvalidation_0-rmsle:0.01185\n",
      "[201]\tvalidation_0-rmsle:0.01185\n",
      "[202]\tvalidation_0-rmsle:0.01185\n",
      "[203]\tvalidation_0-rmsle:0.01185\n",
      "[204]\tvalidation_0-rmsle:0.01185\n",
      "[205]\tvalidation_0-rmsle:0.01185\n",
      "[206]\tvalidation_0-rmsle:0.01184\n",
      "[207]\tvalidation_0-rmsle:0.01184\n",
      "[208]\tvalidation_0-rmsle:0.01184\n",
      "[209]\tvalidation_0-rmsle:0.01185\n",
      "[210]\tvalidation_0-rmsle:0.01185\n",
      "[211]\tvalidation_0-rmsle:0.01185\n",
      "[212]\tvalidation_0-rmsle:0.01184\n",
      "[213]\tvalidation_0-rmsle:0.01185\n",
      "[214]\tvalidation_0-rmsle:0.01184\n",
      "[215]\tvalidation_0-rmsle:0.01184\n",
      "[216]\tvalidation_0-rmsle:0.01184\n",
      "[217]\tvalidation_0-rmsle:0.01184\n",
      "[218]\tvalidation_0-rmsle:0.01184\n",
      "[219]\tvalidation_0-rmsle:0.01184\n",
      "[220]\tvalidation_0-rmsle:0.01185\n",
      "[221]\tvalidation_0-rmsle:0.01184\n",
      "[222]\tvalidation_0-rmsle:0.01184\n",
      "[223]\tvalidation_0-rmsle:0.01185\n",
      "[224]\tvalidation_0-rmsle:0.01185\n",
      "[225]\tvalidation_0-rmsle:0.01185\n",
      "[226]\tvalidation_0-rmsle:0.01185\n",
      "[227]\tvalidation_0-rmsle:0.01185\n",
      "[228]\tvalidation_0-rmsle:0.01184\n",
      "[229]\tvalidation_0-rmsle:0.01184\n",
      "[230]\tvalidation_0-rmsle:0.01184\n",
      "[231]\tvalidation_0-rmsle:0.01184\n",
      "[232]\tvalidation_0-rmsle:0.01184\n",
      "[233]\tvalidation_0-rmsle:0.01184\n",
      "[234]\tvalidation_0-rmsle:0.01184\n",
      "[235]\tvalidation_0-rmsle:0.01184\n",
      "[236]\tvalidation_0-rmsle:0.01184\n",
      "[237]\tvalidation_0-rmsle:0.01184\n",
      "[238]\tvalidation_0-rmsle:0.01184\n",
      "[239]\tvalidation_0-rmsle:0.01184\n",
      "[240]\tvalidation_0-rmsle:0.01184\n",
      "[241]\tvalidation_0-rmsle:0.01184\n",
      "[242]\tvalidation_0-rmsle:0.01183\n",
      "[243]\tvalidation_0-rmsle:0.01183\n",
      "[244]\tvalidation_0-rmsle:0.01183\n",
      "[245]\tvalidation_0-rmsle:0.01183\n",
      "[246]\tvalidation_0-rmsle:0.01184\n",
      "[247]\tvalidation_0-rmsle:0.01183\n",
      "[248]\tvalidation_0-rmsle:0.01183\n",
      "[249]\tvalidation_0-rmsle:0.01183\n",
      "[250]\tvalidation_0-rmsle:0.01184\n",
      "[251]\tvalidation_0-rmsle:0.01183\n",
      "[252]\tvalidation_0-rmsle:0.01183\n",
      "[253]\tvalidation_0-rmsle:0.01183\n",
      "[254]\tvalidation_0-rmsle:0.01183\n",
      "[255]\tvalidation_0-rmsle:0.01183\n",
      "[256]\tvalidation_0-rmsle:0.01183\n",
      "[257]\tvalidation_0-rmsle:0.01183\n",
      "[258]\tvalidation_0-rmsle:0.01183\n",
      "[259]\tvalidation_0-rmsle:0.01183\n",
      "[260]\tvalidation_0-rmsle:0.01183\n",
      "[261]\tvalidation_0-rmsle:0.01183\n",
      "[262]\tvalidation_0-rmsle:0.01183\n",
      "[263]\tvalidation_0-rmsle:0.01184\n",
      "[264]\tvalidation_0-rmsle:0.01184\n",
      "[265]\tvalidation_0-rmsle:0.01184\n",
      "[266]\tvalidation_0-rmsle:0.01184\n",
      "[267]\tvalidation_0-rmsle:0.01184\n",
      "[268]\tvalidation_0-rmsle:0.01184\n",
      "[269]\tvalidation_0-rmsle:0.01184\n",
      "[270]\tvalidation_0-rmsle:0.01184\n",
      "[271]\tvalidation_0-rmsle:0.01184\n",
      "[272]\tvalidation_0-rmsle:0.01184\n",
      "[273]\tvalidation_0-rmsle:0.01184\n",
      "[274]\tvalidation_0-rmsle:0.01184\n",
      "[275]\tvalidation_0-rmsle:0.01184\n",
      "[276]\tvalidation_0-rmsle:0.01184\n",
      "[277]\tvalidation_0-rmsle:0.01184\n",
      "[278]\tvalidation_0-rmsle:0.01184\n",
      "[279]\tvalidation_0-rmsle:0.01183\n",
      "[280]\tvalidation_0-rmsle:0.01183\n",
      "[281]\tvalidation_0-rmsle:0.01184\n",
      "[282]\tvalidation_0-rmsle:0.01184\n",
      "[283]\tvalidation_0-rmsle:0.01184\n",
      "[284]\tvalidation_0-rmsle:0.01183\n"
     ]
    },
    {
     "data": {
      "text/html": [
       "<style>#sk-container-id-12 {color: black;}#sk-container-id-12 pre{padding: 0;}#sk-container-id-12 div.sk-toggleable {background-color: white;}#sk-container-id-12 label.sk-toggleable__label {cursor: pointer;display: block;width: 100%;margin-bottom: 0;padding: 0.3em;box-sizing: border-box;text-align: center;}#sk-container-id-12 label.sk-toggleable__label-arrow:before {content: \"▸\";float: left;margin-right: 0.25em;color: #696969;}#sk-container-id-12 label.sk-toggleable__label-arrow:hover:before {color: black;}#sk-container-id-12 div.sk-estimator:hover label.sk-toggleable__label-arrow:before {color: black;}#sk-container-id-12 div.sk-toggleable__content {max-height: 0;max-width: 0;overflow: hidden;text-align: left;background-color: #f0f8ff;}#sk-container-id-12 div.sk-toggleable__content pre {margin: 0.2em;color: black;border-radius: 0.25em;background-color: #f0f8ff;}#sk-container-id-12 input.sk-toggleable__control:checked~div.sk-toggleable__content {max-height: 200px;max-width: 100%;overflow: auto;}#sk-container-id-12 input.sk-toggleable__control:checked~label.sk-toggleable__label-arrow:before {content: \"▾\";}#sk-container-id-12 div.sk-estimator input.sk-toggleable__control:checked~label.sk-toggleable__label {background-color: #d4ebff;}#sk-container-id-12 div.sk-label input.sk-toggleable__control:checked~label.sk-toggleable__label {background-color: #d4ebff;}#sk-container-id-12 input.sk-hidden--visually {border: 0;clip: rect(1px 1px 1px 1px);clip: rect(1px, 1px, 1px, 1px);height: 1px;margin: -1px;overflow: hidden;padding: 0;position: absolute;width: 1px;}#sk-container-id-12 div.sk-estimator {font-family: monospace;background-color: #f0f8ff;border: 1px dotted black;border-radius: 0.25em;box-sizing: border-box;margin-bottom: 0.5em;}#sk-container-id-12 div.sk-estimator:hover {background-color: #d4ebff;}#sk-container-id-12 div.sk-parallel-item::after {content: \"\";width: 100%;border-bottom: 1px solid gray;flex-grow: 1;}#sk-container-id-12 div.sk-label:hover label.sk-toggleable__label {background-color: #d4ebff;}#sk-container-id-12 div.sk-serial::before {content: \"\";position: absolute;border-left: 1px solid gray;box-sizing: border-box;top: 0;bottom: 0;left: 50%;z-index: 0;}#sk-container-id-12 div.sk-serial {display: flex;flex-direction: column;align-items: center;background-color: white;padding-right: 0.2em;padding-left: 0.2em;position: relative;}#sk-container-id-12 div.sk-item {position: relative;z-index: 1;}#sk-container-id-12 div.sk-parallel {display: flex;align-items: stretch;justify-content: center;background-color: white;position: relative;}#sk-container-id-12 div.sk-item::before, #sk-container-id-12 div.sk-parallel-item::before {content: \"\";position: absolute;border-left: 1px solid gray;box-sizing: border-box;top: 0;bottom: 0;left: 50%;z-index: -1;}#sk-container-id-12 div.sk-parallel-item {display: flex;flex-direction: column;z-index: 1;position: relative;background-color: white;}#sk-container-id-12 div.sk-parallel-item:first-child::after {align-self: flex-end;width: 50%;}#sk-container-id-12 div.sk-parallel-item:last-child::after {align-self: flex-start;width: 50%;}#sk-container-id-12 div.sk-parallel-item:only-child::after {width: 0;}#sk-container-id-12 div.sk-dashed-wrapped {border: 1px dashed gray;margin: 0 0.4em 0.5em 0.4em;box-sizing: border-box;padding-bottom: 0.4em;background-color: white;}#sk-container-id-12 div.sk-label label {font-family: monospace;font-weight: bold;display: inline-block;line-height: 1.2em;}#sk-container-id-12 div.sk-label-container {text-align: center;}#sk-container-id-12 div.sk-container {/* jupyter's `normalize.less` sets `[hidden] { display: none; }` but bootstrap.min.css set `[hidden] { display: none !important; }` so we also need the `!important` here to be able to override the default hidden behavior on the sphinx rendered scikit-learn.org. See: https://github.com/scikit-learn/scikit-learn/issues/21755 */display: inline-block !important;position: relative;}#sk-container-id-12 div.sk-text-repr-fallback {display: none;}</style><div id=\"sk-container-id-12\" class=\"sk-top-container\"><div class=\"sk-text-repr-fallback\"><pre>XGBRegressor(base_score=None, booster=None,\n",
       "             callbacks=[&lt;xgboost.callback.EarlyStopping object at 0x7fce18e50f10&gt;],\n",
       "             colsample_bylevel=None, colsample_bynode=None,\n",
       "             colsample_bytree=None, early_stopping_rounds=None,\n",
       "             enable_categorical=False, eval_metric=None, feature_types=None,\n",
       "             gamma=None, gpu_id=None, grow_policy=None, importance_type=None,\n",
       "             interaction_constraints=None, learning_rate=None, max_bin=None,\n",
       "             max_cat_threshold=None, max_cat_to_onehot=None,\n",
       "             max_delta_step=None, max_depth=None, max_leaves=None,\n",
       "             min_child_weight=None, missing=nan, monotone_constraints=None,\n",
       "             n_estimators=1000, n_jobs=8, num_parallel_tree=None,\n",
       "             objective=&#x27;reg:squaredlogerror&#x27;, predictor=None, ...)</pre><b>In a Jupyter environment, please rerun this cell to show the HTML representation or trust the notebook. <br />On GitHub, the HTML representation is unable to render, please try loading this page with nbviewer.org.</b></div><div class=\"sk-container\" hidden><div class=\"sk-item\"><div class=\"sk-estimator sk-toggleable\"><input class=\"sk-toggleable__control sk-hidden--visually\" id=\"sk-estimator-id-12\" type=\"checkbox\" checked><label for=\"sk-estimator-id-12\" class=\"sk-toggleable__label sk-toggleable__label-arrow\">XGBRegressor</label><div class=\"sk-toggleable__content\"><pre>XGBRegressor(base_score=None, booster=None,\n",
       "             callbacks=[&lt;xgboost.callback.EarlyStopping object at 0x7fce18e50f10&gt;],\n",
       "             colsample_bylevel=None, colsample_bynode=None,\n",
       "             colsample_bytree=None, early_stopping_rounds=None,\n",
       "             enable_categorical=False, eval_metric=None, feature_types=None,\n",
       "             gamma=None, gpu_id=None, grow_policy=None, importance_type=None,\n",
       "             interaction_constraints=None, learning_rate=None, max_bin=None,\n",
       "             max_cat_threshold=None, max_cat_to_onehot=None,\n",
       "             max_delta_step=None, max_depth=None, max_leaves=None,\n",
       "             min_child_weight=None, missing=nan, monotone_constraints=None,\n",
       "             n_estimators=1000, n_jobs=8, num_parallel_tree=None,\n",
       "             objective=&#x27;reg:squaredlogerror&#x27;, predictor=None, ...)</pre></div></div></div></div></div>"
      ],
      "text/plain": [
       "XGBRegressor(base_score=None, booster=None,\n",
       "             callbacks=[<xgboost.callback.EarlyStopping object at 0x7fce18e50f10>],\n",
       "             colsample_bylevel=None, colsample_bynode=None,\n",
       "             colsample_bytree=None, early_stopping_rounds=None,\n",
       "             enable_categorical=False, eval_metric=None, feature_types=None,\n",
       "             gamma=None, gpu_id=None, grow_policy=None, importance_type=None,\n",
       "             interaction_constraints=None, learning_rate=None, max_bin=None,\n",
       "             max_cat_threshold=None, max_cat_to_onehot=None,\n",
       "             max_delta_step=None, max_depth=None, max_leaves=None,\n",
       "             min_child_weight=None, missing=nan, monotone_constraints=None,\n",
       "             n_estimators=1000, n_jobs=8, num_parallel_tree=None,\n",
       "             objective='reg:squaredlogerror', predictor=None, ...)"
      ]
     },
     "execution_count": 71,
     "metadata": {},
     "output_type": "execute_result"
    }
   ],
   "source": [
    "xgb_early_stopping = xgb.callback.EarlyStopping(rounds=30)\n",
    "xgb_model = xgb.XGBRegressor(n_estimators=1000, n_jobs=8, callbacks=[xgb_early_stopping], objective=\"reg:squaredlogerror\")\n",
    "xgb_model.fit(\n",
    "    X_train,\n",
    "    np.log(y_train),\n",
    "    eval_set=[(X_test, np.log(y_test))],\n",
    ")"
   ]
  },
  {
   "cell_type": "code",
   "execution_count": 72,
   "id": "b1047369-babe-43b7-bc77-8ce240cbccbb",
   "metadata": {},
   "outputs": [
    {
     "name": "stderr",
     "output_type": "stream",
     "text": [
      "/home/maesh/anaconda3/envs/ml-flask/lib/python3.11/site-packages/xgboost/data.py:312: FutureWarning: is_sparse is deprecated and will be removed in a future version. Check `isinstance(dtype, pd.SparseDtype)` instead.\n",
      "  if is_sparse(dtype):\n",
      "/home/maesh/anaconda3/envs/ml-flask/lib/python3.11/site-packages/xgboost/data.py:314: FutureWarning: is_categorical_dtype is deprecated and will be removed in a future version. Use isinstance(dtype, CategoricalDtype) instead\n",
      "  elif is_categorical_dtype(dtype) and enable_categorical:\n",
      "/home/maesh/anaconda3/envs/ml-flask/lib/python3.11/site-packages/xgboost/data.py:345: FutureWarning: is_categorical_dtype is deprecated and will be removed in a future version. Use isinstance(dtype, CategoricalDtype) instead\n",
      "  if is_categorical_dtype(dtype)\n",
      "/home/maesh/anaconda3/envs/ml-flask/lib/python3.11/site-packages/xgboost/data.py:336: FutureWarning: is_categorical_dtype is deprecated and will be removed in a future version. Use isinstance(dtype, CategoricalDtype) instead\n",
      "  return is_int or is_bool or is_float or is_categorical_dtype(dtype)\n"
     ]
    },
    {
     "data": {
      "text/plain": [
       "0.1192010996566033"
      ]
     },
     "execution_count": 72,
     "metadata": {},
     "output_type": "execute_result"
    }
   ],
   "source": [
    "y_preds_xgb = np.exp(xgb_model.predict(X_test))\n",
    "\n",
    "mean_absolute_percentage_error(y_test, y_preds_xgb)"
   ]
  },
  {
   "cell_type": "markdown",
   "id": "0fa3fd0b-d2c6-43f2-baad-17f3cb5b200b",
   "metadata": {},
   "source": [
    "## Analyze Results"
   ]
  },
  {
   "cell_type": "code",
   "execution_count": 86,
   "id": "56bc1edb-1959-480f-97ec-4a121e3356d1",
   "metadata": {},
   "outputs": [],
   "source": [
    "out_df = pd.DataFrame()\n",
    "out_df[\"y_test\"] = y_test\n",
    "out_df[\"y_xgb\"] = y_preds_xgb\n",
    "out_df[\"y_lgb\"] = y_preds\n",
    "out_df[\"y_knn\"] = y_preds_knn\n",
    "\n",
    "# average the results from the two models\n",
    "out_df[\"comb\"] = out_df[[\"y_xgb\", \"y_lgb\"]].mean(axis=1)"
   ]
  },
  {
   "cell_type": "code",
   "execution_count": 87,
   "id": "8cf198a1-b45a-45cd-a1ac-203fb082331b",
   "metadata": {},
   "outputs": [
    {
     "data": {
      "text/html": [
       "<div>\n",
       "<style scoped>\n",
       "    .dataframe tbody tr th:only-of-type {\n",
       "        vertical-align: middle;\n",
       "    }\n",
       "\n",
       "    .dataframe tbody tr th {\n",
       "        vertical-align: top;\n",
       "    }\n",
       "\n",
       "    .dataframe thead th {\n",
       "        text-align: right;\n",
       "    }\n",
       "</style>\n",
       "<table border=\"1\" class=\"dataframe\">\n",
       "  <thead>\n",
       "    <tr style=\"text-align: right;\">\n",
       "      <th></th>\n",
       "      <th>y_test</th>\n",
       "      <th>y_xgb</th>\n",
       "      <th>y_lgb</th>\n",
       "      <th>y_knn</th>\n",
       "      <th>comb</th>\n",
       "    </tr>\n",
       "  </thead>\n",
       "  <tbody>\n",
       "    <tr>\n",
       "      <th>y_test</th>\n",
       "      <td>1.000000</td>\n",
       "      <td>0.940927</td>\n",
       "      <td>0.946828</td>\n",
       "      <td>0.907382</td>\n",
       "      <td>0.949234</td>\n",
       "    </tr>\n",
       "    <tr>\n",
       "      <th>y_xgb</th>\n",
       "      <td>0.940927</td>\n",
       "      <td>1.000000</td>\n",
       "      <td>0.977606</td>\n",
       "      <td>0.937305</td>\n",
       "      <td>0.994280</td>\n",
       "    </tr>\n",
       "    <tr>\n",
       "      <th>y_lgb</th>\n",
       "      <td>0.946828</td>\n",
       "      <td>0.977606</td>\n",
       "      <td>1.000000</td>\n",
       "      <td>0.930310</td>\n",
       "      <td>0.994491</td>\n",
       "    </tr>\n",
       "    <tr>\n",
       "      <th>y_knn</th>\n",
       "      <td>0.907382</td>\n",
       "      <td>0.937305</td>\n",
       "      <td>0.930310</td>\n",
       "      <td>1.000000</td>\n",
       "      <td>0.939046</td>\n",
       "    </tr>\n",
       "    <tr>\n",
       "      <th>comb</th>\n",
       "      <td>0.949234</td>\n",
       "      <td>0.994280</td>\n",
       "      <td>0.994491</td>\n",
       "      <td>0.939046</td>\n",
       "      <td>1.000000</td>\n",
       "    </tr>\n",
       "  </tbody>\n",
       "</table>\n",
       "</div>"
      ],
      "text/plain": [
       "          y_test     y_xgb     y_lgb     y_knn      comb\n",
       "y_test  1.000000  0.940927  0.946828  0.907382  0.949234\n",
       "y_xgb   0.940927  1.000000  0.977606  0.937305  0.994280\n",
       "y_lgb   0.946828  0.977606  1.000000  0.930310  0.994491\n",
       "y_knn   0.907382  0.937305  0.930310  1.000000  0.939046\n",
       "comb    0.949234  0.994280  0.994491  0.939046  1.000000"
      ]
     },
     "execution_count": 87,
     "metadata": {},
     "output_type": "execute_result"
    }
   ],
   "source": [
    "# ensure predictions are correlated with the labels\n",
    "out_df.corr()"
   ]
  },
  {
   "cell_type": "code",
   "execution_count": 88,
   "id": "5d691167-ee8a-42bf-b8be-d63784eedf83",
   "metadata": {},
   "outputs": [
    {
     "name": "stdout",
     "output_type": "stream",
     "text": [
      "MAPE %\n",
      "LightGBM: 11.7802%\n",
      "XGBoost:  11.9201%\n",
      "Averaged: 11.5506%\n"
     ]
    }
   ],
   "source": [
    "print(\"MAPE %\")\n",
    "print(f\"LightGBM: {mean_absolute_percentage_error(y_test, out_df['y_lgb'])*100:.4f}%\")\n",
    "print(f\"XGBoost:  {mean_absolute_percentage_error(y_test, out_df['y_xgb'])*100:.4f}%\")\n",
    "print(f\"Averaged: {mean_absolute_percentage_error(y_test, out_df['comb'])*100:.4f}%\")"
   ]
  },
  {
   "cell_type": "code",
   "execution_count": null,
   "id": "84ff0ad1-345d-4316-b731-c3846b7f5d62",
   "metadata": {},
   "outputs": [],
   "source": []
  }
 ],
 "metadata": {
  "kernelspec": {
   "display_name": "Python 3 (ipykernel)",
   "language": "python",
   "name": "python3"
  },
  "language_info": {
   "codemirror_mode": {
    "name": "ipython",
    "version": 3
   },
   "file_extension": ".py",
   "mimetype": "text/x-python",
   "name": "python",
   "nbconvert_exporter": "python",
   "pygments_lexer": "ipython3",
   "version": "3.11.6"
  }
 },
 "nbformat": 4,
 "nbformat_minor": 5
}
